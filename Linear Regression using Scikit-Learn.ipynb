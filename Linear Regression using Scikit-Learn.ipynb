{
 "cells": [
  {
   "cell_type": "code",
   "execution_count": 1,
   "id": "ab4c51c8",
   "metadata": {
    "execution": {
     "iopub.execute_input": "2025-07-29T14:05:24.946836Z",
     "iopub.status.busy": "2025-07-29T14:05:24.946531Z",
     "iopub.status.idle": "2025-07-29T14:05:26.781316Z",
     "shell.execute_reply": "2025-07-29T14:05:26.780146Z"
    },
    "papermill": {
     "duration": 1.841054,
     "end_time": "2025-07-29T14:05:26.783640",
     "exception": false,
     "start_time": "2025-07-29T14:05:24.942586",
     "status": "completed"
    },
    "tags": []
   },
   "outputs": [],
   "source": [
    "import numpy as np\n",
    "import matplotlib.pyplot as plt\n",
    "from sklearn.linear_model import SGDRegressor"
   ]
  },
  {
   "cell_type": "code",
   "execution_count": 2,
   "id": "620c588f",
   "metadata": {
    "_cell_guid": "b1076dfc-b9ad-4769-8c92-a6c4dae69d19",
    "_uuid": "8f2839f25d086af736a60e9eeb907d3b93b6e0e5",
    "execution": {
     "iopub.execute_input": "2025-07-29T14:05:26.793075Z",
     "iopub.status.busy": "2025-07-29T14:05:26.792125Z",
     "iopub.status.idle": "2025-07-29T14:05:26.798738Z",
     "shell.execute_reply": "2025-07-29T14:05:26.797589Z"
    },
    "papermill": {
     "duration": 0.013734,
     "end_time": "2025-07-29T14:05:26.800752",
     "exception": false,
     "start_time": "2025-07-29T14:05:26.787018",
     "status": "completed"
    },
    "tags": []
   },
   "outputs": [],
   "source": [
    "X = np.array([1.0, 2.0, 3.0, 4.0, 5.0])\n",
    "y = np.array([300.0, 500.0, 700.0, 900.0, 1100.0])\n",
    "X = X.reshape(-1, 1)"
   ]
  },
  {
   "cell_type": "markdown",
   "id": "03f52f97",
   "metadata": {
    "papermill": {
     "duration": 0.00197,
     "end_time": "2025-07-29T14:05:26.805402",
     "exception": false,
     "start_time": "2025-07-29T14:05:26.803432",
     "status": "completed"
    },
    "tags": []
   },
   "source": [
    "### Create and fit the regression model"
   ]
  },
  {
   "cell_type": "code",
   "execution_count": 3,
   "id": "d17507b9",
   "metadata": {
    "execution": {
     "iopub.execute_input": "2025-07-29T14:05:26.810700Z",
     "iopub.status.busy": "2025-07-29T14:05:26.810383Z",
     "iopub.status.idle": "2025-07-29T14:05:26.829818Z",
     "shell.execute_reply": "2025-07-29T14:05:26.828849Z"
    },
    "papermill": {
     "duration": 0.023931,
     "end_time": "2025-07-29T14:05:26.831355",
     "exception": false,
     "start_time": "2025-07-29T14:05:26.807424",
     "status": "completed"
    },
    "tags": []
   },
   "outputs": [
    {
     "name": "stdout",
     "output_type": "stream",
     "text": [
      "SGDRegressor()\n",
      "number of iterations completed: 1000, number of weight updates: 5001.0\n"
     ]
    },
    {
     "name": "stderr",
     "output_type": "stream",
     "text": [
      "/usr/local/lib/python3.11/dist-packages/sklearn/linear_model/_stochastic_gradient.py:1548: ConvergenceWarning: Maximum number of iteration reached before convergence. Consider increasing max_iter to improve the fit.\n",
      "  warnings.warn(\n"
     ]
    }
   ],
   "source": [
    "sgdr = SGDRegressor(max_iter=1000)\n",
    "sgdr.fit(X, y)\n",
    "print(sgdr)\n",
    "print(f\"number of iterations completed: {sgdr.n_iter_}, number of weight updates: {sgdr.t_}\")"
   ]
  },
  {
   "cell_type": "markdown",
   "id": "3550385d",
   "metadata": {
    "papermill": {
     "duration": 0.001987,
     "end_time": "2025-07-29T14:05:26.835622",
     "exception": false,
     "start_time": "2025-07-29T14:05:26.833635",
     "status": "completed"
    },
    "tags": []
   },
   "source": [
    "### View parameters\n"
   ]
  },
  {
   "cell_type": "code",
   "execution_count": 4,
   "id": "b9ac7d51",
   "metadata": {
    "execution": {
     "iopub.execute_input": "2025-07-29T14:05:26.841482Z",
     "iopub.status.busy": "2025-07-29T14:05:26.840935Z",
     "iopub.status.idle": "2025-07-29T14:05:26.846676Z",
     "shell.execute_reply": "2025-07-29T14:05:26.845633Z"
    },
    "papermill": {
     "duration": 0.010131,
     "end_time": "2025-07-29T14:05:26.847950",
     "exception": false,
     "start_time": "2025-07-29T14:05:26.837819",
     "status": "completed"
    },
    "tags": []
   },
   "outputs": [
    {
     "name": "stdout",
     "output_type": "stream",
     "text": [
      "model parameters:                   w: [203.00946393], b:[89.09478959]\n",
      "model parameters from previous lab: w: [110.56 -21.27 -32.71 -37.97], b: 363.16\n"
     ]
    }
   ],
   "source": [
    "b_norm = sgdr.intercept_\n",
    "w_norm = sgdr.coef_\n",
    "print(f\"model parameters:                   w: {w_norm}, b:{b_norm}\")\n",
    "print( \"model parameters from previous lab: w: [110.56 -21.27 -32.71 -37.97], b: 363.16\")"
   ]
  },
  {
   "cell_type": "markdown",
   "id": "53e6b28e",
   "metadata": {
    "papermill": {
     "duration": 0.001853,
     "end_time": "2025-07-29T14:05:26.852083",
     "exception": false,
     "start_time": "2025-07-29T14:05:26.850230",
     "status": "completed"
    },
    "tags": []
   },
   "source": [
    "### Make predictions\n",
    "Predict the targets of the training data. Use both the `predict` routine and compute using $w$ and $b$."
   ]
  },
  {
   "cell_type": "code",
   "execution_count": 5,
   "id": "a09d3e46",
   "metadata": {
    "execution": {
     "iopub.execute_input": "2025-07-29T14:05:26.857478Z",
     "iopub.status.busy": "2025-07-29T14:05:26.857136Z",
     "iopub.status.idle": "2025-07-29T14:05:26.868414Z",
     "shell.execute_reply": "2025-07-29T14:05:26.867055Z"
    },
    "papermill": {
     "duration": 0.016014,
     "end_time": "2025-07-29T14:05:26.870095",
     "exception": false,
     "start_time": "2025-07-29T14:05:26.854081",
     "status": "completed"
    },
    "tags": []
   },
   "outputs": [
    {
     "name": "stdout",
     "output_type": "stream",
     "text": [
      "prediction using np.dot() and sgdr.predict match: True\n",
      "Prediction on training set:\n",
      "[292.10425352 495.11371744 698.12318137 901.1326453 ]\n",
      "Target values \n",
      "[300. 500. 700. 900.]\n"
     ]
    }
   ],
   "source": [
    "# make a prediction using sgdr.predict()\n",
    "y_pred_sgd = sgdr.predict(X)\n",
    "# make a prediction using w,b. \n",
    "y_pred = np.dot(X, w_norm) + b_norm  \n",
    "print(f\"prediction using np.dot() and sgdr.predict match: {(y_pred == y_pred_sgd).all()}\")\n",
    "\n",
    "print(f\"Prediction on training set:\\n{y_pred[:4]}\" )\n",
    "print(f\"Target values \\n{y[:4]}\")"
   ]
  }
 ],
 "metadata": {
  "kaggle": {
   "accelerator": "none",
   "dataSources": [],
   "dockerImageVersionId": 31089,
   "isGpuEnabled": false,
   "isInternetEnabled": true,
   "language": "python",
   "sourceType": "notebook"
  },
  "kernelspec": {
   "display_name": "Python 3",
   "language": "python",
   "name": "python3"
  },
  "language_info": {
   "codemirror_mode": {
    "name": "ipython",
    "version": 3
   },
   "file_extension": ".py",
   "mimetype": "text/x-python",
   "name": "python",
   "nbconvert_exporter": "python",
   "pygments_lexer": "ipython3",
   "version": "3.11.13"
  },
  "papermill": {
   "default_parameters": {},
   "duration": 10.206789,
   "end_time": "2025-07-29T14:05:30.137173",
   "environment_variables": {},
   "exception": null,
   "input_path": "__notebook__.ipynb",
   "output_path": "__notebook__.ipynb",
   "parameters": {},
   "start_time": "2025-07-29T14:05:19.930384",
   "version": "2.6.0"
  }
 },
 "nbformat": 4,
 "nbformat_minor": 5
}
